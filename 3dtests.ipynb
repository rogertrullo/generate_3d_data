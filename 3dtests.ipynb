{
 "cells": [
  {
   "cell_type": "code",
   "execution_count": 1,
   "metadata": {
    "collapsed": false
   },
   "outputs": [
    {
     "name": "stderr",
     "output_type": "stream",
     "text": [
      "../python/caffe/pycaffe.py:13: RuntimeWarning: to-Python converter for boost::shared_ptr<caffe::Net<float> > already registered; second conversion method ignored.\n",
      "  from ._caffe import Net, SGDSolver, NesterovSolver, AdaGradSolver, \\\n",
      "../python/caffe/pycaffe.py:13: RuntimeWarning: to-Python converter for boost::shared_ptr<caffe::Blob<float> > already registered; second conversion method ignored.\n",
      "  from ._caffe import Net, SGDSolver, NesterovSolver, AdaGradSolver, \\\n",
      "../python/caffe/pycaffe.py:13: RuntimeWarning: to-Python converter for boost::shared_ptr<caffe::Solver<float> > already registered; second conversion method ignored.\n",
      "  from ._caffe import Net, SGDSolver, NesterovSolver, AdaGradSolver, \\\n"
     ]
    }
   ],
   "source": [
    "import numpy as np\n",
    "import matplotlib.pyplot as plt\n",
    "%matplotlib inline\n",
    "import Image\n",
    "\n",
    "# Make sure that caffe is on the python path:\n",
    "caffe_root = '../'  # this file is expected to be in {caffe_root}/examples\n",
    "import sys\n",
    "sys.path.insert(0, caffe_root + 'python')\n",
    "\n",
    "import caffe\n",
    "import h5py\n",
    "import os\n",
    "# configure plotting\n",
    "plt.rcParams['figure.figsize'] = (10, 10)\n",
    "plt.rcParams['image.interpolation'] = 'nearest'\n",
    "plt.rcParams['image.cmap'] = 'gray'"
   ]
  },
  {
   "cell_type": "code",
   "execution_count": 2,
   "metadata": {
    "collapsed": false
   },
   "outputs": [
    {
     "name": "stdout",
     "output_type": "stream",
     "text": [
      "(1, 16, 128, 128)\n",
      "(1, 1, 16, 128, 128)\n"
     ]
    },
    {
     "data": {
      "text/plain": [
       "\"comp_kwargs = {'compression': 'gzip', 'compression_opts': 1}\\nwith h5py.File(test_filename, 'w') as f:\\n    f.create_dataset('data', data=Xt, **comp_kwargs)\\n    f.create_dataset('label', data=yt.astype(np.float32), **comp_kwargs)\\nwith open(os.path.join(dirname, 'test.txt'), 'w') as f:\\n    f.write(test_filename + '\\n')\""
      ]
     },
     "execution_count": 2,
     "metadata": {},
     "output_type": "execute_result"
    }
   ],
   "source": [
    "# Write out the data to HDF5 files in a temp directory.\n",
    "# This file is assumed to be caffe_root/examples/hdf5_classification.ipynb\n",
    "sz=128\n",
    "batches=1\n",
    "channels=1\n",
    "X=100*np.random.rand(16*sz*sz*channels*batches).reshape(batches,channels,16,sz,sz)\n",
    "y=np.random.randint(20, size=(1,16,sz,sz))\n",
    "print y.shape\n",
    "print X.shape\n",
    "\n",
    "\n",
    "\n",
    "dirname = os.path.abspath('./net_surgery/data')\n",
    "if not os.path.exists(dirname):\n",
    "    os.makedirs(dirname)\n",
    "\n",
    "train_filename = os.path.join(dirname, 'train.h5')\n",
    "test_filename = os.path.join(dirname, 'test.h5')\n",
    "\n",
    "# HDF5DataLayer source should be a file containing a list of HDF5 filenames.\n",
    "# To show this off, we'll list the same data file twice.\n",
    "with h5py.File(train_filename, 'w') as f:\n",
    "    f['data'] = X\n",
    "    f['label'] = y.astype(np.float32)\n",
    "with open(os.path.join(dirname, 'train.txt'), 'w') as f:\n",
    "    f.write(train_filename + '\\n')\n",
    "    f.write(train_filename + '\\n')\n",
    "    \n",
    "# HDF5 is pretty efficient, but can be further compressed.\n",
    "\"\"\"comp_kwargs = {'compression': 'gzip', 'compression_opts': 1}\n",
    "with h5py.File(test_filename, 'w') as f:\n",
    "    f.create_dataset('data', data=Xt, **comp_kwargs)\n",
    "    f.create_dataset('label', data=yt.astype(np.float32), **comp_kwargs)\n",
    "with open(os.path.join(dirname, 'test.txt'), 'w') as f:\n",
    "    f.write(test_filename + '\\n')\"\"\""
   ]
  },
  {
   "cell_type": "code",
   "execution_count": 2,
   "metadata": {
    "collapsed": false
   },
   "outputs": [
    {
     "name": "stdout",
     "output_type": "stream",
     "text": [
      "blobs ['data', 'label', 'data_data_0_split_0', 'data_data_0_split_1', 'conv', 'pool1', 'upscore', 'score', 'loss']\n",
      "params ['conv', 'upscore']\n",
      "(30, 3, 14, 30, 30)\n",
      "(30, 3, 14, 30, 30)\n",
      "1134000\n",
      "<caffe._caffe.LayerVec object at 0x7f1d3e1046e0>\n"
     ]
    }
   ],
   "source": [
    "# Load the net, list its data and params, and filter an example image.\n",
    "caffe.set_mode_gpu()\n",
    "netroger = caffe.Net('3d_data/conv.prototxt', caffe.TRAIN)\n",
    "print(\"blobs {}\\nparams {}\".format(netroger.blobs.keys(), netroger.params.keys()))\n",
    "\n",
    "print netroger.blobs['conv'].data.shape\n",
    "print netroger.blobs['conv'].diff.shape\n",
    "\n",
    "print netroger.blobs['conv'].count\n",
    "\n",
    "#print netroger.blobs['upscore'].data.shape\n",
    "#print netroger.blobs['upscore'].diff.shape\n",
    "\n",
    "print netroger.layers\n",
    "\n"
   ]
  },
  {
   "cell_type": "code",
   "execution_count": 3,
   "metadata": {
    "collapsed": false,
    "scrolled": true
   },
   "outputs": [
    {
     "name": "stdout",
     "output_type": "stream",
     "text": [
      "data\n",
      "(30, 1, 16, 32, 32)\n",
      "label\n",
      "(30, 16, 32, 32)\n",
      "data_data_0_split_0\n",
      "(30, 1, 16, 32, 32)\n",
      "data_data_0_split_1\n",
      "(30, 1, 16, 32, 32)\n",
      "conv\n",
      "(30, 3, 14, 30, 30)\n",
      "pool1\n",
      "(30, 3, 13, 29, 29)\n",
      "upscore\n",
      "(30, 5, 27, 59, 59)\n",
      "score\n",
      "(30, 5, 16, 32, 32)\n",
      "loss\n",
      "()\n"
     ]
    }
   ],
   "source": [
    "misblobs=netroger.blobs.keys()\n",
    "for i in xrange(len(misblobs)):\n",
    "    print misblobs[i]\n",
    "    print netroger.blobs[misblobs[i]].data.shape "
   ]
  },
  {
   "cell_type": "code",
   "execution_count": 6,
   "metadata": {
    "collapsed": false
   },
   "outputs": [],
   "source": [
    "netroger.forward()\n",
    "netroger.backward()\n",
    "src=netroger.blobs['data']\n",
    "g = src.diff[0]\n",
    "\n",
    "diffs = netroger.backward(diffs=['data','conv'])"
   ]
  },
  {
   "cell_type": "code",
   "execution_count": 4,
   "metadata": {
    "collapsed": false
   },
   "outputs": [
    {
     "name": "stdout",
     "output_type": "stream",
     "text": [
      "[ 0.]\n"
     ]
    },
    {
     "data": {
      "image/png": "[encoded data removed]",
      "text/plain": [
       "<matplotlib.figure.Figure at 0x7f64a80abe50>"
      ]
     },
     "metadata": {},
     "output_type": "display_data"
    }
   ],
   "source": [
    "idrandom=np.random.randint(30)\n",
    "\n",
    "testdata= netroger.blobs['data'].data.shape\n",
    "plt.figure()\n",
    "filt_min, filt_max = netroger.blobs['data'].data.min(), netroger.blobs['data'].data.max()\n",
    "plt.imshow(netroger.blobs['data'].data[idrandom, 0,10,:,:], vmin=filt_min, vmax=filt_max)\n",
    "plt.imshow(netroger.blobs['label'].data[idrandom,5,:,:])\n",
    "dataimg=netroger.blobs['label'].data[idrandom,5,:,:]\n",
    "print np.unique(dataimg)"
   ]
  },
  {
   "cell_type": "code",
   "execution_count": 3,
   "metadata": {
    "collapsed": false
   },
   "outputs": [],
   "source": [
    "\n",
    "\n",
    "### load the solver and create train and test nets\n",
    "solver = None  # ignore this workaround for lmdb data (can't instantiate two solvers on the same data)\n",
    "solver = caffe.SGDSolver('3d_data/solver.prototxt')"
   ]
  },
  {
   "cell_type": "code",
   "execution_count": null,
   "metadata": {
    "collapsed": true
   },
   "outputs": [],
   "source": [
    "for _ in range(1000):\n",
    "    solver.step(1)"
   ]
  },
  {
   "cell_type": "code",
   "execution_count": null,
   "metadata": {
    "collapsed": true
   },
   "outputs": [],
   "source": []
  }
 ],
 "metadata": {
  "kernelspec": {
   "display_name": "Python 2",
   "language": "python",
   "name": "python2"
  },
  "language_info": {
   "codemirror_mode": {
    "name": "ipython",
    "version": 2
   },
   "file_extension": ".py",
   "mimetype": "text/x-python",
   "name": "python",
   "nbconvert_exporter": "python",
   "pygments_lexer": "ipython2",
   "version": "2.7.9"
  }
 },
 "nbformat": 4,
 "nbformat_minor": 0
}
